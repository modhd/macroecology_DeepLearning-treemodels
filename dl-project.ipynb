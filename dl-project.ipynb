{
 "cells": [
  {
   "cell_type": "markdown",
   "id": "b4ed79a2",
   "metadata": {
    "papermill": {
     "duration": 0.014257,
     "end_time": "2023-08-29T08:07:49.421555",
     "exception": false,
     "start_time": "2023-08-29T08:07:49.407298",
     "status": "completed"
    },
    "tags": []
   },
   "source": [
    "# CNN model for SDM of 5 European Tree Species from satellite imagery\n",
    "## A project for the module 700493: Modern concepts and methods in macroecology and biogeography"
   ]
  },
  {
   "cell_type": "markdown",
   "id": "c571d88c",
   "metadata": {
    "papermill": {
     "duration": 0.011695,
     "end_time": "2023-08-29T08:07:49.445510",
     "exception": false,
     "start_time": "2023-08-29T08:07:49.433815",
     "status": "completed"
    },
    "tags": []
   },
   "source": [
    "### 1. Decompressing .zstd file with satellite image squares"
   ]
  },
  {
   "cell_type": "code",
   "execution_count": 1,
   "id": "aea02547",
   "metadata": {
    "execution": {
     "iopub.execute_input": "2023-08-29T08:07:49.471839Z",
     "iopub.status.busy": "2023-08-29T08:07:49.471124Z",
     "iopub.status.idle": "2023-08-29T08:07:49.476494Z",
     "shell.execute_reply": "2023-08-29T08:07:49.475353Z"
    },
    "papermill": {
     "duration": 0.023418,
     "end_time": "2023-08-29T08:07:49.480833",
     "exception": false,
     "start_time": "2023-08-29T08:07:49.457415",
     "status": "completed"
    },
    "tags": []
   },
   "outputs": [],
   "source": [
    "#import zstandard\n",
    "#import pathlib\n",
    "\n",
    "#dctx = zstandard.ZstdDecompressor()\n",
    "#with open(\"..//input//satellite-cutouts//cutouts.h5.zstd\",'rb') as ifh, open(\"//kaggle//working//cutouts.h5\", 'wb') as ofh: dctx.copy_stream(ifh, ofh)"
   ]
  },
  {
   "cell_type": "markdown",
   "id": "560841ee",
   "metadata": {
    "papermill": {
     "duration": 0.011698,
     "end_time": "2023-08-29T08:07:49.504425",
     "exception": false,
     "start_time": "2023-08-29T08:07:49.492727",
     "status": "completed"
    },
    "tags": []
   },
   "source": [
    "### 2. Extract satellite images from .h5 file"
   ]
  },
  {
   "cell_type": "code",
   "execution_count": 2,
   "id": "bdde3558",
   "metadata": {
    "execution": {
     "iopub.execute_input": "2023-08-29T08:07:49.530144Z",
     "iopub.status.busy": "2023-08-29T08:07:49.529709Z",
     "iopub.status.idle": "2023-08-29T08:07:49.789148Z",
     "shell.execute_reply": "2023-08-29T08:07:49.787873Z"
    },
    "papermill": {
     "duration": 0.27548,
     "end_time": "2023-08-29T08:07:49.792042",
     "exception": false,
     "start_time": "2023-08-29T08:07:49.516562",
     "status": "completed"
    },
    "tags": []
   },
   "outputs": [],
   "source": [
    "import os\n",
    "import h5py\n",
    "import numpy as np\n",
    "\n",
    "#print(os.getcwd())\n",
    "\n",
    "f = h5py.File(\"..//input//sat-cutouts/cutouts.h5\",\"r\")\n",
    "\n",
    "#f.keys()\n",
    "#np.array(f[\"labels\"])\n",
    "#np.array(f[\"data\"][\"1\"])"
   ]
  },
  {
   "cell_type": "markdown",
   "id": "9e628bf2",
   "metadata": {
    "papermill": {
     "duration": 0.012273,
     "end_time": "2023-08-29T08:07:49.816625",
     "exception": false,
     "start_time": "2023-08-29T08:07:49.804352",
     "status": "completed"
    },
    "tags": []
   },
   "source": [
    "### 3. Filter images with unique coordinates only"
   ]
  },
  {
   "cell_type": "code",
   "execution_count": 3,
   "id": "128c5dd8",
   "metadata": {
    "execution": {
     "iopub.execute_input": "2023-08-29T08:07:49.844287Z",
     "iopub.status.busy": "2023-08-29T08:07:49.843208Z",
     "iopub.status.idle": "2023-08-29T08:07:50.842029Z",
     "shell.execute_reply": "2023-08-29T08:07:50.840747Z"
    },
    "papermill": {
     "duration": 1.015622,
     "end_time": "2023-08-29T08:07:50.844812",
     "exception": false,
     "start_time": "2023-08-29T08:07:49.829190",
     "status": "completed"
    },
    "tags": []
   },
   "outputs": [],
   "source": [
    "import pandas as pd\n",
    "\n",
    "x_coord = np.array(f[\"x\"])\n",
    "y_coord = np.array(f[\"y\"])\n",
    "label = np.array(f[\"labels\"])\n",
    "#print(label)\n",
    "np.unique(label, return_counts=True)\n",
    "images_df = pd.DataFrame(np.vstack([x_coord, y_coord, label]).T, columns = [\"X\", \"Y\", \"SPECIES.NAME\"])\n",
    "\n",
    "images_df[\"SPECIES.NAME\"].nunique()\n",
    "\n",
    "images_df_unique = images_df.drop_duplicates(subset = [\"X\", \"Y\"])\n",
    "#print(images_df_unique)\n",
    "#print(images_df_unique.index)"
   ]
  },
  {
   "cell_type": "markdown",
   "id": "23ebd256",
   "metadata": {
    "papermill": {
     "duration": 0.011734,
     "end_time": "2023-08-29T08:07:50.869378",
     "exception": false,
     "start_time": "2023-08-29T08:07:50.857644",
     "status": "completed"
    },
    "tags": []
   },
   "source": [
    "### 4. Check how many trees per species are in the unique dataset"
   ]
  },
  {
   "cell_type": "code",
   "execution_count": 4,
   "id": "7113a6b5",
   "metadata": {
    "execution": {
     "iopub.execute_input": "2023-08-29T08:07:50.896918Z",
     "iopub.status.busy": "2023-08-29T08:07:50.896180Z",
     "iopub.status.idle": "2023-08-29T08:07:50.935225Z",
     "shell.execute_reply": "2023-08-29T08:07:50.934063Z"
    },
    "papermill": {
     "duration": 0.055899,
     "end_time": "2023-08-29T08:07:50.937916",
     "exception": false,
     "start_time": "2023-08-29T08:07:50.882017",
     "status": "completed"
    },
    "tags": []
   },
   "outputs": [
    {
     "data": {
      "text/plain": [
       "b'Pinus sylvestris'    49377\n",
       "b'Picea abies'         41487\n",
       "b'Fagus sylvatica'     24026\n",
       "b'Quercus robur'       22913\n",
       "b'Betula pubescens'    13076\n",
       "Name: SPECIES.NAME, dtype: int64"
      ]
     },
     "execution_count": 4,
     "metadata": {},
     "output_type": "execute_result"
    }
   ],
   "source": [
    "images_df_unique[\"SPECIES.NAME\"].value_counts()"
   ]
  },
  {
   "cell_type": "markdown",
   "id": "b5c46d17",
   "metadata": {
    "papermill": {
     "duration": 0.012216,
     "end_time": "2023-08-29T08:07:50.962496",
     "exception": false,
     "start_time": "2023-08-29T08:07:50.950280",
     "status": "completed"
    },
    "tags": []
   },
   "source": [
    "### 5. Create subset\n"
   ]
  },
  {
   "cell_type": "code",
   "execution_count": 5,
   "id": "85f99ad4",
   "metadata": {
    "execution": {
     "iopub.execute_input": "2023-08-29T08:07:50.989381Z",
     "iopub.status.busy": "2023-08-29T08:07:50.988878Z",
     "iopub.status.idle": "2023-08-29T08:08:52.701459Z",
     "shell.execute_reply": "2023-08-29T08:08:52.700580Z"
    },
    "papermill": {
     "duration": 61.729303,
     "end_time": "2023-08-29T08:08:52.704263",
     "exception": false,
     "start_time": "2023-08-29T08:07:50.974960",
     "status": "completed"
    },
    "tags": []
   },
   "outputs": [],
   "source": [
    "sample_indeces = images_df_unique.groupby(\"SPECIES.NAME\", group_keys = False).apply(lambda x: x.sample(n = 2500, random_state = 123)).index\n",
    "#print(sample_indeces)\n",
    "subset_df = images_df_unique.loc[sample_indeces]\n",
    "subset_images = np.array([np.array(f[\"data\"][str(i+1)]) for i in sample_indeces])\n",
    "\n",
    "#np.save(\"subset_images.npy\", subset_images)\n",
    "#subset_df.to_csv(\"df_subset_images.csv\")"
   ]
  },
  {
   "cell_type": "markdown",
   "id": "b0020f8d",
   "metadata": {
    "papermill": {
     "duration": 0.01249,
     "end_time": "2023-08-29T08:08:52.729627",
     "exception": false,
     "start_time": "2023-08-29T08:08:52.717137",
     "status": "completed"
    },
    "tags": []
   },
   "source": [
    "### 6. Print example satellite image"
   ]
  },
  {
   "cell_type": "code",
   "execution_count": 6,
   "id": "98b6cd23",
   "metadata": {
    "execution": {
     "iopub.execute_input": "2023-08-29T08:08:52.757746Z",
     "iopub.status.busy": "2023-08-29T08:08:52.757050Z",
     "iopub.status.idle": "2023-08-29T08:08:53.070224Z",
     "shell.execute_reply": "2023-08-29T08:08:53.068968Z"
    },
    "papermill": {
     "duration": 0.33039,
     "end_time": "2023-08-29T08:08:53.072882",
     "exception": false,
     "start_time": "2023-08-29T08:08:52.742492",
     "status": "completed"
    },
    "tags": []
   },
   "outputs": [
    {
     "data": {
      "text/plain": [
       "<matplotlib.image.AxesImage at 0x7ce8630bcf40>"
      ]
     },
     "execution_count": 6,
     "metadata": {},
     "output_type": "execute_result"
    },
    {
     "data": {
      "image/png": "[encoded data removed]",
      "text/plain": [
       "<Figure size 640x480 with 1 Axes>"
      ]
     },
     "metadata": {},
     "output_type": "display_data"
    }
   ],
   "source": [
    "from matplotlib import pyplot as plt\n",
    "plt.imshow(subset_images[0, 3])\n",
    "#plt.savefig('satellite_exp.png')"
   ]
  },
  {
   "cell_type": "markdown",
   "id": "70d20ad0",
   "metadata": {
    "papermill": {
     "duration": 0.012508,
     "end_time": "2023-08-29T08:08:53.098400",
     "exception": false,
     "start_time": "2023-08-29T08:08:53.085892",
     "status": "completed"
    },
    "tags": []
   },
   "source": [
    "### 7. Normalization of pixel values"
   ]
  },
  {
   "cell_type": "code",
   "execution_count": 7,
   "id": "6be1c922",
   "metadata": {
    "execution": {
     "iopub.execute_input": "2023-08-29T08:08:53.125850Z",
     "iopub.status.busy": "2023-08-29T08:08:53.125477Z",
     "iopub.status.idle": "2023-08-29T08:08:55.787871Z",
     "shell.execute_reply": "2023-08-29T08:08:55.786704Z"
    },
    "papermill": {
     "duration": 2.679419,
     "end_time": "2023-08-29T08:08:55.790724",
     "exception": false,
     "start_time": "2023-08-29T08:08:53.111305",
     "status": "completed"
    },
    "tags": []
   },
   "outputs": [],
   "source": [
    "#np.min(subset_images), np.max(subset_images)\n",
    "subset_images = (subset_images - np.min(subset_images)) / (np.max(subset_images) - np.min(subset_images))\n",
    "#print(subset_images.dtype)\n",
    "#print(subset_images.shape)"
   ]
  },
  {
   "cell_type": "markdown",
   "id": "164cd2bc",
   "metadata": {
    "papermill": {
     "duration": 0.013071,
     "end_time": "2023-08-29T08:08:55.817059",
     "exception": false,
     "start_time": "2023-08-29T08:08:55.803988",
     "status": "completed"
    },
    "tags": []
   },
   "source": [
    "### 8. Create training and test datset"
   ]
  },
  {
   "cell_type": "markdown",
   "id": "7abfa8ca",
   "metadata": {
    "papermill": {
     "duration": 0.013473,
     "end_time": "2023-08-29T08:08:55.843612",
     "exception": false,
     "start_time": "2023-08-29T08:08:55.830139",
     "status": "completed"
    },
    "tags": []
   },
   "source": [
    "#### 8.1 Change data structure"
   ]
  },
  {
   "cell_type": "code",
   "execution_count": 8,
   "id": "2a73fee2",
   "metadata": {
    "execution": {
     "iopub.execute_input": "2023-08-29T08:08:55.878326Z",
     "iopub.status.busy": "2023-08-29T08:08:55.877405Z",
     "iopub.status.idle": "2023-08-29T08:08:59.945971Z",
     "shell.execute_reply": "2023-08-29T08:08:59.944571Z"
    },
    "papermill": {
     "duration": 4.09215,
     "end_time": "2023-08-29T08:08:59.948798",
     "exception": false,
     "start_time": "2023-08-29T08:08:55.856648",
     "status": "completed"
    },
    "tags": []
   },
   "outputs": [],
   "source": [
    "from matplotlib import pyplot as plt\n",
    "import torch\n",
    "\n",
    "#print(subset_images.shape)\n",
    "subset_images_new = np.rollaxis(subset_images, 1, 4)\n",
    "# print(subset_images_new.shape)\n",
    "subset_images_tensor = torch.from_numpy(subset_images)"
   ]
  },
  {
   "cell_type": "markdown",
   "id": "a7589849",
   "metadata": {
    "papermill": {
     "duration": 0.012458,
     "end_time": "2023-08-29T08:08:59.974410",
     "exception": false,
     "start_time": "2023-08-29T08:08:59.961952",
     "status": "completed"
    },
    "tags": []
   },
   "source": [
    "#### 8.2 Transform labels to numbers"
   ]
  },
  {
   "cell_type": "code",
   "execution_count": 9,
   "id": "6be4db42",
   "metadata": {
    "execution": {
     "iopub.execute_input": "2023-08-29T08:09:00.003642Z",
     "iopub.status.busy": "2023-08-29T08:09:00.002909Z",
     "iopub.status.idle": "2023-08-29T08:09:00.021945Z",
     "shell.execute_reply": "2023-08-29T08:09:00.021025Z"
    },
    "papermill": {
     "duration": 0.036228,
     "end_time": "2023-08-29T08:09:00.024222",
     "exception": false,
     "start_time": "2023-08-29T08:08:59.987994",
     "status": "completed"
    },
    "tags": []
   },
   "outputs": [],
   "source": [
    "labels = subset_df[\"SPECIES.NAME\"].values # .values makes sure to get values and not pandas series object\n",
    "\n",
    "labels_dict = {b'Fagus sylvatica':0, b'Picea abies':1, b'Betula pubescens':2, b'Pinus sylvestris':3, b'Quercus robur':4}\n",
    "\n",
    "labels = subset_df[\"SPECIES.NAME\"].apply(lambda x: labels_dict[x]).values"
   ]
  },
  {
   "cell_type": "markdown",
   "id": "80b5ba8b",
   "metadata": {
    "papermill": {
     "duration": 0.012524,
     "end_time": "2023-08-29T08:09:00.050062",
     "exception": false,
     "start_time": "2023-08-29T08:09:00.037538",
     "status": "completed"
    },
    "tags": []
   },
   "source": [
    "#### 8.3 Train-test-split"
   ]
  },
  {
   "cell_type": "code",
   "execution_count": 10,
   "id": "321fefb9",
   "metadata": {
    "execution": {
     "iopub.execute_input": "2023-08-29T08:09:00.078527Z",
     "iopub.status.busy": "2023-08-29T08:09:00.077144Z",
     "iopub.status.idle": "2023-08-29T08:09:03.517371Z",
     "shell.execute_reply": "2023-08-29T08:09:03.516273Z"
    },
    "papermill": {
     "duration": 3.456958,
     "end_time": "2023-08-29T08:09:03.519961",
     "exception": false,
     "start_time": "2023-08-29T08:09:00.063003",
     "status": "completed"
    },
    "tags": []
   },
   "outputs": [],
   "source": [
    "from sklearn.model_selection import train_test_split\n",
    "\n",
    "index_train, index_test, img_train, img_test, label_train, label_test = train_test_split(subset_df.index.values, subset_images_tensor, labels, stratify=labels, test_size=0.2, random_state=42)\n"
   ]
  },
  {
   "cell_type": "markdown",
   "id": "910369ee",
   "metadata": {
    "papermill": {
     "duration": 0.013002,
     "end_time": "2023-08-29T08:09:03.547541",
     "exception": false,
     "start_time": "2023-08-29T08:09:03.534539",
     "status": "completed"
    },
    "tags": []
   },
   "source": [
    "#### 8.4 add training and test set information to data frame"
   ]
  },
  {
   "cell_type": "code",
   "execution_count": 11,
   "id": "0f172776",
   "metadata": {
    "execution": {
     "iopub.execute_input": "2023-08-29T08:09:03.575356Z",
     "iopub.status.busy": "2023-08-29T08:09:03.574959Z",
     "iopub.status.idle": "2023-08-29T08:09:03.590112Z",
     "shell.execute_reply": "2023-08-29T08:09:03.588745Z"
    },
    "papermill": {
     "duration": 0.03214,
     "end_time": "2023-08-29T08:09:03.592874",
     "exception": false,
     "start_time": "2023-08-29T08:09:03.560734",
     "status": "completed"
    },
    "tags": []
   },
   "outputs": [],
   "source": [
    "subset_df.loc[index_train, [\"training\"]]=True\n",
    "subset_df.loc[index_test, [\"training\"]]=False\n",
    "#subset_df\n",
    "#print(np.unique(label_test, return_counts=True)) # check distribution of labels in test set"
   ]
  },
  {
   "cell_type": "markdown",
   "id": "ef4cd66a",
   "metadata": {
    "papermill": {
     "duration": 0.01245,
     "end_time": "2023-08-29T08:09:03.618814",
     "exception": false,
     "start_time": "2023-08-29T08:09:03.606364",
     "status": "completed"
    },
    "tags": []
   },
   "source": [
    "### 9. Create dataset"
   ]
  },
  {
   "cell_type": "markdown",
   "id": "551c8423",
   "metadata": {
    "papermill": {
     "duration": 0.012616,
     "end_time": "2023-08-29T08:09:03.644390",
     "exception": false,
     "start_time": "2023-08-29T08:09:03.631774",
     "status": "completed"
    },
    "tags": []
   },
   "source": [
    "#### 9.1 Create dataset class"
   ]
  },
  {
   "cell_type": "code",
   "execution_count": 12,
   "id": "59c0f4e2",
   "metadata": {
    "execution": {
     "iopub.execute_input": "2023-08-29T08:09:03.672006Z",
     "iopub.status.busy": "2023-08-29T08:09:03.671617Z",
     "iopub.status.idle": "2023-08-29T08:09:03.679279Z",
     "shell.execute_reply": "2023-08-29T08:09:03.678054Z"
    },
    "papermill": {
     "duration": 0.024297,
     "end_time": "2023-08-29T08:09:03.681629",
     "exception": false,
     "start_time": "2023-08-29T08:09:03.657332",
     "status": "completed"
    },
    "tags": []
   },
   "outputs": [],
   "source": [
    "from torch.utils.data import Dataset\n",
    "\n",
    "class CustomImageDataset(Dataset):\n",
    "    def __init__(self, labels, images):\n",
    "        self.img_labels = labels\n",
    "        self.img = images\n",
    "\n",
    "    def __len__(self):\n",
    "        return len(self.img_labels)\n",
    "\n",
    "    def __getitem__(self, idx):\n",
    "        image = self.img[idx]\n",
    "        label = self.img_labels[idx]\n",
    "        return image, label"
   ]
  },
  {
   "cell_type": "markdown",
   "id": "170e585d",
   "metadata": {
    "papermill": {
     "duration": 0.013153,
     "end_time": "2023-08-29T08:09:03.707904",
     "exception": false,
     "start_time": "2023-08-29T08:09:03.694751",
     "status": "completed"
    },
    "tags": []
   },
   "source": [
    "#### 9.2 Create train and test datasets"
   ]
  },
  {
   "cell_type": "code",
   "execution_count": 13,
   "id": "84c6f1fd",
   "metadata": {
    "execution": {
     "iopub.execute_input": "2023-08-29T08:09:03.736836Z",
     "iopub.status.busy": "2023-08-29T08:09:03.735663Z",
     "iopub.status.idle": "2023-08-29T08:09:03.741113Z",
     "shell.execute_reply": "2023-08-29T08:09:03.740305Z"
    },
    "papermill": {
     "duration": 0.022187,
     "end_time": "2023-08-29T08:09:03.743334",
     "exception": false,
     "start_time": "2023-08-29T08:09:03.721147",
     "status": "completed"
    },
    "tags": []
   },
   "outputs": [],
   "source": [
    "training_data = CustomImageDataset(label_train, img_train)\n",
    "#print(training_data.img.shape)\n",
    "\n",
    "test_data = CustomImageDataset(label_test, img_test)\n",
    "#print(test_data.img.shape)"
   ]
  },
  {
   "cell_type": "markdown",
   "id": "ecc32699",
   "metadata": {
    "papermill": {
     "duration": 0.013047,
     "end_time": "2023-08-29T08:09:03.769524",
     "exception": false,
     "start_time": "2023-08-29T08:09:03.756477",
     "status": "completed"
    },
    "tags": []
   },
   "source": [
    "### 10. Specify a batch size"
   ]
  },
  {
   "cell_type": "code",
   "execution_count": 14,
   "id": "8f5aa788",
   "metadata": {
    "execution": {
     "iopub.execute_input": "2023-08-29T08:09:03.797740Z",
     "iopub.status.busy": "2023-08-29T08:09:03.796672Z",
     "iopub.status.idle": "2023-08-29T08:09:03.801970Z",
     "shell.execute_reply": "2023-08-29T08:09:03.801171Z"
    },
    "papermill": {
     "duration": 0.02166,
     "end_time": "2023-08-29T08:09:03.804141",
     "exception": false,
     "start_time": "2023-08-29T08:09:03.782481",
     "status": "completed"
    },
    "tags": []
   },
   "outputs": [],
   "source": [
    "batch_size = 32"
   ]
  },
  {
   "cell_type": "markdown",
   "id": "25b4bcde",
   "metadata": {
    "papermill": {
     "duration": 0.012891,
     "end_time": "2023-08-29T08:09:03.830006",
     "exception": false,
     "start_time": "2023-08-29T08:09:03.817115",
     "status": "completed"
    },
    "tags": []
   },
   "source": [
    "### 11. Create data loaders"
   ]
  },
  {
   "cell_type": "code",
   "execution_count": 15,
   "id": "2eeb75aa",
   "metadata": {
    "execution": {
     "iopub.execute_input": "2023-08-29T08:09:03.858007Z",
     "iopub.status.busy": "2023-08-29T08:09:03.857248Z",
     "iopub.status.idle": "2023-08-29T08:09:03.863341Z",
     "shell.execute_reply": "2023-08-29T08:09:03.862178Z"
    },
    "papermill": {
     "duration": 0.022693,
     "end_time": "2023-08-29T08:09:03.865739",
     "exception": false,
     "start_time": "2023-08-29T08:09:03.843046",
     "status": "completed"
    },
    "tags": []
   },
   "outputs": [],
   "source": [
    "train_dataloader = torch.utils.data.DataLoader(training_data, batch_size=batch_size)\n",
    "test_dataloader = torch.utils.data.DataLoader(test_data, batch_size=batch_size)\n",
    "\n",
    "#for X, y in train_dataloader:\n",
    "#    print(\"Shape of X: \", X.shape, X.dtype)\n",
    "#    print(\"Shape of y: \", y.shape, y.dtype)\n",
    "#    break"
   ]
  },
  {
   "cell_type": "markdown",
   "id": "7a793ca4",
   "metadata": {
    "papermill": {
     "duration": 0.012626,
     "end_time": "2023-08-29T08:09:03.891400",
     "exception": false,
     "start_time": "2023-08-29T08:09:03.878774",
     "status": "completed"
    },
    "tags": []
   },
   "source": [
    "### 12. Define the CNN model"
   ]
  },
  {
   "cell_type": "code",
   "execution_count": 16,
   "id": "7a737eb0",
   "metadata": {
    "execution": {
     "iopub.execute_input": "2023-08-29T08:09:03.922113Z",
     "iopub.status.busy": "2023-08-29T08:09:03.921692Z",
     "iopub.status.idle": "2023-08-29T08:09:03.965002Z",
     "shell.execute_reply": "2023-08-29T08:09:03.963787Z"
    },
    "papermill": {
     "duration": 0.063611,
     "end_time": "2023-08-29T08:09:03.967889",
     "exception": false,
     "start_time": "2023-08-29T08:09:03.904278",
     "status": "completed"
    },
    "tags": []
   },
   "outputs": [],
   "source": [
    "import torch.nn.functional as F\n",
    "\n",
    "class TreeModel(torch.nn.Module):\n",
    "    def __init__(self):\n",
    "        super().__init__()\n",
    "        self.conv1 = torch.nn.Conv2d(4, 6, 5)\n",
    "        self.pool = torch.nn.MaxPool2d(2, 2)\n",
    "        self.conv2 = torch.nn.Conv2d(6, 16, 5)\n",
    "        self.fc1 = torch.nn.Linear(16 * 22 * 22, 120)\n",
    "        self.do1 = torch.nn.Dropout(p=0.2) # cite dropout\n",
    "        self.fc2 = torch.nn.Linear(120, 84)\n",
    "        self.do2 = torch.nn.Dropout(p=0.2)\n",
    "        self.fc3 = torch.nn.Linear(84, 5)\n",
    "\n",
    "    def forward(self, x):\n",
    "        x = x.to(torch.float32)\n",
    "        x = self.pool(F.relu(self.conv1(x)))\n",
    "        x = self.pool(F.relu(self.conv2(x)))\n",
    "        x = torch.flatten(x, 1) # flatten all dimensions except batch\n",
    "        x = F.relu(self.do1(self.fc1(x)))\n",
    "        x = F.relu(self.do2(self.fc2(x)))\n",
    "        #x = F.softmax(self.fc3(x), dim=1) # may not work (maybe needs higher learning rate)\n",
    "        x = self.fc3(x) # may not work (maybe needs higher learning rate)\n",
    "\n",
    "        return x\n",
    "\n",
    "# check if GPU is availavle\n",
    "device = \"cuda\" if torch.cuda.is_available() else \"cpu\"\n",
    "#print(\"Using {} device\".format(device))\n",
    "\n",
    "# get the model and move to available device\n",
    "model = TreeModel().to(device)\n",
    "#print(model)"
   ]
  },
  {
   "cell_type": "markdown",
   "id": "2cdecf79",
   "metadata": {
    "papermill": {
     "duration": 0.012599,
     "end_time": "2023-08-29T08:09:03.993523",
     "exception": false,
     "start_time": "2023-08-29T08:09:03.980924",
     "status": "completed"
    },
    "tags": []
   },
   "source": [
    "### 13. Define the loss function and the optimizer"
   ]
  },
  {
   "cell_type": "code",
   "execution_count": 17,
   "id": "11afdba7",
   "metadata": {
    "execution": {
     "iopub.execute_input": "2023-08-29T08:09:04.021642Z",
     "iopub.status.busy": "2023-08-29T08:09:04.021204Z",
     "iopub.status.idle": "2023-08-29T08:09:04.027630Z",
     "shell.execute_reply": "2023-08-29T08:09:04.026518Z"
    },
    "papermill": {
     "duration": 0.023482,
     "end_time": "2023-08-29T08:09:04.029981",
     "exception": false,
     "start_time": "2023-08-29T08:09:04.006499",
     "status": "completed"
    },
    "tags": []
   },
   "outputs": [],
   "source": [
    "loss = torch.nn.CrossEntropyLoss()\n",
    "optimizer = torch.optim.Adam(model.parameters(), lr=1e-3)"
   ]
  },
  {
   "cell_type": "markdown",
   "id": "5664837a",
   "metadata": {
    "papermill": {
     "duration": 0.01345,
     "end_time": "2023-08-29T08:09:04.056633",
     "exception": false,
     "start_time": "2023-08-29T08:09:04.043183",
     "status": "completed"
    },
    "tags": []
   },
   "source": [
    "### 14. Define training, test and predict functions"
   ]
  },
  {
   "cell_type": "code",
   "execution_count": 18,
   "id": "ef9621f5",
   "metadata": {
    "execution": {
     "iopub.execute_input": "2023-08-29T08:09:04.085004Z",
     "iopub.status.busy": "2023-08-29T08:09:04.084364Z",
     "iopub.status.idle": "2023-08-29T08:09:04.098534Z",
     "shell.execute_reply": "2023-08-29T08:09:04.097253Z"
    },
    "papermill": {
     "duration": 0.03186,
     "end_time": "2023-08-29T08:09:04.101676",
     "exception": false,
     "start_time": "2023-08-29T08:09:04.069816",
     "status": "completed"
    },
    "tags": []
   },
   "outputs": [],
   "source": [
    "# The training function\n",
    "def train(dataloader, model, loss_function, optimizer):\n",
    "    size = len(dataloader.dataset)\n",
    "    \n",
    "    for batch, (X, y) in enumerate(dataloader):\n",
    "        X, y = X.to(device), y.to(device)\n",
    "\n",
    "        # Forward propagation or Compute prediction error\n",
    "        pred = model(X)\n",
    "        loss = loss_function(pred, y)\n",
    "\n",
    "        # Backpropagation\n",
    "        optimizer.zero_grad()\n",
    "        loss.backward()\n",
    "        optimizer.step()\n",
    "\n",
    "        if batch % 20 == 0:\n",
    "            loss, current = loss.item(), batch * len(X)\n",
    "            print(f\"loss: {loss:>7f}  [{current:>5d}/{size:>5d}]\")\n",
    "            train_loss = loss\n",
    "    return train_loss      \n",
    "\n",
    "# The test function\n",
    "def test(dataloader, model, loss_fn):\n",
    "    size = len(dataloader.dataset)\n",
    "    num_batches = len(dataloader)\n",
    "    model.eval()\n",
    "    test_loss, correct = 0, 0\n",
    "    with torch.no_grad():\n",
    "        for X, y in dataloader:\n",
    "            X, y = X.to(device), y.to(device)\n",
    "            pred = model(X)\n",
    "            test_loss += loss_fn(pred, y).item()\n",
    "            correct += (pred.argmax(1) == y).type(torch.float).sum().item()\n",
    "    test_loss /= num_batches\n",
    "    correct /= size\n",
    "    print(f\"Test Accuracy: {(100*correct):>0.1f}%, Avg loss: {test_loss:>8f} \\n\")\n",
    "    return test_loss\n",
    "\n",
    "# The predict function\n",
    "def predict(dataloader, model):\n",
    "    size = len(dataloader.dataset)\n",
    "    num_batches = len(dataloader)\n",
    "    model.eval()\n",
    "    list_preds = []\n",
    "    with torch.no_grad():\n",
    "        for X, y in dataloader:\n",
    "            X, y = X.to(device), y.to(device)\n",
    "            pred = model(X)\n",
    "            list_preds.append(pred.numpy())\n",
    "    return np.vstack(list_preds)"
   ]
  },
  {
   "cell_type": "markdown",
   "id": "199a4718",
   "metadata": {
    "papermill": {
     "duration": 0.013264,
     "end_time": "2023-08-29T08:09:04.128944",
     "exception": false,
     "start_time": "2023-08-29T08:09:04.115680",
     "status": "completed"
    },
    "tags": []
   },
   "source": [
    "### 15. Run the model"
   ]
  },
  {
   "cell_type": "code",
   "execution_count": 19,
   "id": "ee644801",
   "metadata": {
    "execution": {
     "iopub.execute_input": "2023-08-29T08:09:04.158111Z",
     "iopub.status.busy": "2023-08-29T08:09:04.156993Z",
     "iopub.status.idle": "2023-08-29T08:11:11.874242Z",
     "shell.execute_reply": "2023-08-29T08:11:11.872997Z"
    },
    "papermill": {
     "duration": 127.734492,
     "end_time": "2023-08-29T08:11:11.877057",
     "exception": false,
     "start_time": "2023-08-29T08:09:04.142565",
     "status": "completed"
    },
    "tags": []
   },
   "outputs": [
    {
     "name": "stdout",
     "output_type": "stream",
     "text": [
      "Epoch 1\n",
      "-------------------------------\n",
      "loss: 1.589754  [    0/10000]\n",
      "loss: 1.539603  [  640/10000]\n",
      "loss: 1.481276  [ 1280/10000]\n",
      "loss: 1.544152  [ 1920/10000]\n",
      "loss: 1.438823  [ 2560/10000]\n",
      "loss: 1.339813  [ 3200/10000]\n",
      "loss: 1.388286  [ 3840/10000]\n",
      "loss: 1.434744  [ 4480/10000]\n",
      "loss: 1.347971  [ 5120/10000]\n",
      "loss: 1.472815  [ 5760/10000]\n",
      "loss: 1.223549  [ 6400/10000]\n",
      "loss: 1.294842  [ 7040/10000]\n",
      "loss: 1.357797  [ 7680/10000]\n",
      "loss: 1.265072  [ 8320/10000]\n",
      "loss: 1.257622  [ 8960/10000]\n",
      "loss: 1.381280  [ 9600/10000]\n",
      "Test Accuracy: 38.9%, Avg loss: 1.333631 \n",
      "\n",
      "Epoch 2\n",
      "-------------------------------\n",
      "loss: 1.395749  [    0/10000]\n",
      "loss: 1.285938  [  640/10000]\n",
      "loss: 1.344863  [ 1280/10000]\n",
      "loss: 1.251901  [ 1920/10000]\n",
      "loss: 1.441432  [ 2560/10000]\n",
      "loss: 1.354064  [ 3200/10000]\n",
      "loss: 1.390238  [ 3840/10000]\n",
      "loss: 1.429544  [ 4480/10000]\n",
      "loss: 1.379230  [ 5120/10000]\n",
      "loss: 1.476512  [ 5760/10000]\n",
      "loss: 1.186631  [ 6400/10000]\n",
      "loss: 1.296092  [ 7040/10000]\n",
      "loss: 1.307875  [ 7680/10000]\n",
      "loss: 1.241548  [ 8320/10000]\n",
      "loss: 1.259658  [ 8960/10000]\n",
      "loss: 1.338193  [ 9600/10000]\n",
      "Test Accuracy: 39.4%, Avg loss: 1.330771 \n",
      "\n",
      "Epoch 3\n",
      "-------------------------------\n",
      "loss: 1.389727  [    0/10000]\n",
      "loss: 1.251414  [  640/10000]\n",
      "loss: 1.307283  [ 1280/10000]\n",
      "loss: 1.234976  [ 1920/10000]\n",
      "loss: 1.387778  [ 2560/10000]\n",
      "loss: 1.383866  [ 3200/10000]\n",
      "loss: 1.385741  [ 3840/10000]\n",
      "loss: 1.397547  [ 4480/10000]\n",
      "loss: 1.391510  [ 5120/10000]\n",
      "loss: 1.478673  [ 5760/10000]\n",
      "loss: 1.156024  [ 6400/10000]\n",
      "loss: 1.305113  [ 7040/10000]\n",
      "loss: 1.278998  [ 7680/10000]\n",
      "loss: 1.236924  [ 8320/10000]\n",
      "loss: 1.291889  [ 8960/10000]\n",
      "loss: 1.340365  [ 9600/10000]\n",
      "Test Accuracy: 39.8%, Avg loss: 1.328746 \n",
      "\n",
      "Epoch 4\n",
      "-------------------------------\n",
      "loss: 1.378233  [    0/10000]\n",
      "loss: 1.257595  [  640/10000]\n",
      "loss: 1.297206  [ 1280/10000]\n",
      "loss: 1.210873  [ 1920/10000]\n",
      "loss: 1.395242  [ 2560/10000]\n",
      "loss: 1.341829  [ 3200/10000]\n",
      "loss: 1.374555  [ 3840/10000]\n",
      "loss: 1.370514  [ 4480/10000]\n",
      "loss: 1.391128  [ 5120/10000]\n",
      "loss: 1.480736  [ 5760/10000]\n",
      "loss: 1.154103  [ 6400/10000]\n",
      "loss: 1.252903  [ 7040/10000]\n",
      "loss: 1.224161  [ 7680/10000]\n",
      "loss: 1.218203  [ 8320/10000]\n",
      "loss: 1.312678  [ 8960/10000]\n",
      "loss: 1.330490  [ 9600/10000]\n",
      "Test Accuracy: 40.0%, Avg loss: 1.328294 \n",
      "\n",
      "Epoch 5\n",
      "-------------------------------\n",
      "loss: 1.320347  [    0/10000]\n",
      "loss: 1.210837  [  640/10000]\n",
      "loss: 1.257815  [ 1280/10000]\n",
      "loss: 1.182250  [ 1920/10000]\n",
      "loss: 1.368137  [ 2560/10000]\n",
      "loss: 1.309914  [ 3200/10000]\n",
      "loss: 1.341572  [ 3840/10000]\n",
      "loss: 1.349533  [ 4480/10000]\n",
      "loss: 1.448125  [ 5120/10000]\n",
      "loss: 1.453761  [ 5760/10000]\n",
      "loss: 1.138160  [ 6400/10000]\n",
      "loss: 1.226093  [ 7040/10000]\n",
      "loss: 1.204224  [ 7680/10000]\n",
      "loss: 1.178449  [ 8320/10000]\n",
      "loss: 1.237983  [ 8960/10000]\n",
      "loss: 1.261236  [ 9600/10000]\n",
      "Test Accuracy: 40.9%, Avg loss: 1.369944 \n",
      "\n",
      "Epoch 6\n",
      "-------------------------------\n",
      "loss: 1.247642  [    0/10000]\n",
      "loss: 1.167064  [  640/10000]\n",
      "loss: 1.159246  [ 1280/10000]\n",
      "loss: 1.136692  [ 1920/10000]\n",
      "loss: 1.410383  [ 2560/10000]\n",
      "loss: 1.245904  [ 3200/10000]\n",
      "loss: 1.329327  [ 3840/10000]\n",
      "loss: 1.281460  [ 4480/10000]\n",
      "loss: 1.370421  [ 5120/10000]\n",
      "loss: 1.431548  [ 5760/10000]\n",
      "loss: 1.106764  [ 6400/10000]\n",
      "loss: 1.174308  [ 7040/10000]\n",
      "loss: 1.231249  [ 7680/10000]\n",
      "loss: 1.136551  [ 8320/10000]\n",
      "loss: 1.228953  [ 8960/10000]\n",
      "loss: 1.180894  [ 9600/10000]\n",
      "Test Accuracy: 41.4%, Avg loss: 1.434901 \n",
      "\n",
      "Done!\n"
     ]
    }
   ],
   "source": [
    "epochs = 6\n",
    "train_loss_list = []\n",
    "test_loss_list = []\n",
    "for t in range(epochs):\n",
    "    print(f\"Epoch {t+1}\\n-------------------------------\")\n",
    "    train_loss = train(train_dataloader, model, loss, optimizer)\n",
    "    test_loss = test(test_dataloader, model, loss)\n",
    "    train_loss_list.append(train_loss)\n",
    "    test_loss_list.append(test_loss)\n",
    "print(\"Done!\")"
   ]
  },
  {
   "cell_type": "markdown",
   "id": "3a60f873",
   "metadata": {
    "papermill": {
     "duration": 0.020983,
     "end_time": "2023-08-29T08:11:11.920244",
     "exception": false,
     "start_time": "2023-08-29T08:11:11.899261",
     "status": "completed"
    },
    "tags": []
   },
   "source": [
    "### 16. Plot train and test loss"
   ]
  },
  {
   "cell_type": "code",
   "execution_count": 20,
   "id": "712ca8a5",
   "metadata": {
    "execution": {
     "iopub.execute_input": "2023-08-29T08:11:11.966910Z",
     "iopub.status.busy": "2023-08-29T08:11:11.966084Z",
     "iopub.status.idle": "2023-08-29T08:11:12.239213Z",
     "shell.execute_reply": "2023-08-29T08:11:12.238058Z"
    },
    "papermill": {
     "duration": 0.300327,
     "end_time": "2023-08-29T08:11:12.241913",
     "exception": false,
     "start_time": "2023-08-29T08:11:11.941586",
     "status": "completed"
    },
    "tags": []
   },
   "outputs": [
    {
     "data": {
      "text/plain": [
       "[<matplotlib.lines.Line2D at 0x7ce8393411e0>]"
      ]
     },
     "execution_count": 20,
     "metadata": {},
     "output_type": "execute_result"
    },
    {
     "data": {
      "image/png": "[encoded data removed]",
      "text/plain": [
       "<Figure size 640x480 with 1 Axes>"
      ]
     },
     "metadata": {},
     "output_type": "display_data"
    }
   ],
   "source": [
    "plt.plot(np.arange(epochs), train_loss_list)\n",
    "plt.plot(np.arange(epochs), test_loss_list)\n",
    "#plt.savefig('train_test_loss.png')"
   ]
  },
  {
   "cell_type": "markdown",
   "id": "8fff9e21",
   "metadata": {
    "papermill": {
     "duration": 0.02162,
     "end_time": "2023-08-29T08:11:12.285509",
     "exception": false,
     "start_time": "2023-08-29T08:11:12.263889",
     "status": "completed"
    },
    "tags": []
   },
   "source": [
    "### 17. Accumulate predictions in dataframe"
   ]
  },
  {
   "cell_type": "code",
   "execution_count": 21,
   "id": "30288e44",
   "metadata": {
    "execution": {
     "iopub.execute_input": "2023-08-29T08:11:12.331844Z",
     "iopub.status.busy": "2023-08-29T08:11:12.331381Z",
     "iopub.status.idle": "2023-08-29T08:11:22.957108Z",
     "shell.execute_reply": "2023-08-29T08:11:22.956062Z"
    },
    "papermill": {
     "duration": 10.652268,
     "end_time": "2023-08-29T08:11:22.959978",
     "exception": false,
     "start_time": "2023-08-29T08:11:12.307710",
     "status": "completed"
    },
    "tags": []
   },
   "outputs": [],
   "source": [
    "preds_test = predict(test_dataloader, model)\n",
    "\n",
    "subset_df.loc[index_train, [\"training\"]]=True\n",
    "subset_df.loc[index_test, [\"sp1\", \"sp2\", \"sp3\", \"sp4\", \"sp5\"]]=preds_test\n",
    "\n",
    "preds_train = predict(train_dataloader, model)\n",
    "subset_df.loc[index_train, [\"sp1\", \"sp2\", \"sp3\", \"sp4\", \"sp5\"]]=preds_train\n",
    "\n",
    "labels_dict_rev = {0:\"b'Fagus sylvatica'\",\n",
    "              1:\"b'Picea abies'\",\n",
    "              2:\"b'Betula pubescens'\",\n",
    "              3:\"b'Pinus sylvestris'\",\n",
    "              4:\"b'Quercus robur'\"}\n",
    "\n",
    "preds_test\n",
    "subset_df.loc[index_test, [\"prediction\"]]=[labels_dict_rev[i] for i in np.argmax(preds_test, axis=1)]\n",
    "subset_df.loc[index_train, [\"prediction\"]]=[labels_dict_rev[i] for i in np.argmax(preds_train, axis=1)]\n",
    "subset_df.to_csv(\"results.csv\")"
   ]
  }
 ],
 "metadata": {
  "kernelspec": {
   "display_name": "Python 3",
   "language": "python",
   "name": "python3"
  },
  "language_info": {
   "codemirror_mode": {
    "name": "ipython",
    "version": 3
   },
   "file_extension": ".py",
   "mimetype": "text/x-python",
   "name": "python",
   "nbconvert_exporter": "python",
   "pygments_lexer": "ipython3",
   "version": "3.10.10"
  },
  "papermill": {
   "default_parameters": {},
   "duration": 230.292445,
   "end_time": "2023-08-29T08:11:24.909799",
   "environment_variables": {},
   "exception": null,
   "input_path": "__notebook__.ipynb",
   "output_path": "__notebook__.ipynb",
   "parameters": {},
   "start_time": "2023-08-29T08:07:34.617354",
   "version": "2.4.0"
  }
 },
 "nbformat": 4,
 "nbformat_minor": 5
}
