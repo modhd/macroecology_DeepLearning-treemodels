{
 "cells": [
  {
   "cell_type": "markdown",
   "id": "689f30a0",
   "metadata": {
    "papermill": {
     "duration": 0.010471,
     "end_time": "2023-08-29T11:55:04.749784",
     "exception": false,
     "start_time": "2023-08-29T11:55:04.739313",
     "status": "completed"
    },
    "tags": []
   },
   "source": [
    "# CNN model for SDM of 5 European Tree Species from satellite imagery\n",
    "## A project for the module 700493: Modern concepts and methods in macroecology and biogeography"
   ]
  },
  {
   "cell_type": "markdown",
   "id": "c6d7deb5",
   "metadata": {
    "papermill": {
     "duration": 0.007574,
     "end_time": "2023-08-29T11:55:04.765113",
     "exception": false,
     "start_time": "2023-08-29T11:55:04.757539",
     "status": "completed"
    },
    "tags": []
   },
   "source": [
    "### 1. Decompressing .zstd file with satellite image squares"
   ]
  },
  {
   "cell_type": "code",
   "execution_count": 1,
   "id": "ef39a532",
   "metadata": {
    "execution": {
     "iopub.execute_input": "2023-08-29T11:55:04.782811Z",
     "iopub.status.busy": "2023-08-29T11:55:04.782379Z",
     "iopub.status.idle": "2023-08-29T11:55:04.787520Z",
     "shell.execute_reply": "2023-08-29T11:55:04.786328Z"
    },
    "papermill": {
     "duration": 0.01654,
     "end_time": "2023-08-29T11:55:04.789409",
     "exception": false,
     "start_time": "2023-08-29T11:55:04.772869",
     "status": "completed"
    },
    "tags": []
   },
   "outputs": [],
   "source": [
    "#import zstandard\n",
    "#import pathlib\n",
    "\n",
    "#dctx = zstandard.ZstdDecompressor()\n",
    "#with open(\"..//input//satellite-cutouts//cutouts.h5.zstd\",'rb') as ifh, open(\"//kaggle//working//cutouts.h5\", 'wb') as ofh: dctx.copy_stream(ifh, ofh)"
   ]
  },
  {
   "cell_type": "markdown",
   "id": "3f878dd7",
   "metadata": {
    "papermill": {
     "duration": 0.007549,
     "end_time": "2023-08-29T11:55:04.804752",
     "exception": false,
     "start_time": "2023-08-29T11:55:04.797203",
     "status": "completed"
    },
    "tags": []
   },
   "source": [
    "### 2. Extract satellite images from .h5 file"
   ]
  },
  {
   "cell_type": "code",
   "execution_count": 2,
   "id": "4eb67e10",
   "metadata": {
    "execution": {
     "iopub.execute_input": "2023-08-29T11:55:04.822095Z",
     "iopub.status.busy": "2023-08-29T11:55:04.821776Z",
     "iopub.status.idle": "2023-08-29T11:55:05.062968Z",
     "shell.execute_reply": "2023-08-29T11:55:05.061206Z"
    },
    "papermill": {
     "duration": 0.252929,
     "end_time": "2023-08-29T11:55:05.065537",
     "exception": false,
     "start_time": "2023-08-29T11:55:04.812608",
     "status": "completed"
    },
    "tags": []
   },
   "outputs": [],
   "source": [
    "import os\n",
    "import h5py\n",
    "import numpy as np\n",
    "\n",
    "#print(os.getcwd())\n",
    "\n",
    "f = h5py.File(\"..//input//sat-cutouts/cutouts.h5\",\"r\")\n",
    "\n",
    "#f.keys()\n",
    "#np.array(f[\"labels\"])\n",
    "#np.array(f[\"data\"][\"1\"])"
   ]
  },
  {
   "cell_type": "markdown",
   "id": "699ab179",
   "metadata": {
    "papermill": {
     "duration": 0.007531,
     "end_time": "2023-08-29T11:55:05.081032",
     "exception": false,
     "start_time": "2023-08-29T11:55:05.073501",
     "status": "completed"
    },
    "tags": []
   },
   "source": [
    "### 3. Filter images with unique coordinates only"
   ]
  },
  {
   "cell_type": "code",
   "execution_count": 3,
   "id": "07943374",
   "metadata": {
    "execution": {
     "iopub.execute_input": "2023-08-29T11:55:05.098856Z",
     "iopub.status.busy": "2023-08-29T11:55:05.097902Z",
     "iopub.status.idle": "2023-08-29T11:55:05.738407Z",
     "shell.execute_reply": "2023-08-29T11:55:05.736902Z"
    },
    "papermill": {
     "duration": 0.6524,
     "end_time": "2023-08-29T11:55:05.741077",
     "exception": false,
     "start_time": "2023-08-29T11:55:05.088677",
     "status": "completed"
    },
    "tags": []
   },
   "outputs": [],
   "source": [
    "import pandas as pd\n",
    "\n",
    "x_coord = np.array(f[\"x\"])\n",
    "y_coord = np.array(f[\"y\"])\n",
    "label = np.array(f[\"labels\"])\n",
    "#print(label)\n",
    "np.unique(label, return_counts=True)\n",
    "images_df = pd.DataFrame(np.vstack([x_coord, y_coord, label]).T, columns = [\"X\", \"Y\", \"SPECIES.NAME\"])\n",
    "\n",
    "images_df[\"SPECIES.NAME\"].nunique()\n",
    "\n",
    "images_df_unique = images_df.drop_duplicates(subset = [\"X\", \"Y\"])\n",
    "#print(images_df_unique)\n",
    "#print(images_df_unique.index)"
   ]
  },
  {
   "cell_type": "markdown",
   "id": "c972f24e",
   "metadata": {
    "papermill": {
     "duration": 0.007362,
     "end_time": "2023-08-29T11:55:05.756442",
     "exception": false,
     "start_time": "2023-08-29T11:55:05.749080",
     "status": "completed"
    },
    "tags": []
   },
   "source": [
    "### 4. Check how many trees per species are in the unique dataset"
   ]
  },
  {
   "cell_type": "code",
   "execution_count": 4,
   "id": "1392b728",
   "metadata": {
    "execution": {
     "iopub.execute_input": "2023-08-29T11:55:05.774695Z",
     "iopub.status.busy": "2023-08-29T11:55:05.773535Z",
     "iopub.status.idle": "2023-08-29T11:55:05.794479Z",
     "shell.execute_reply": "2023-08-29T11:55:05.793473Z"
    },
    "papermill": {
     "duration": 0.032149,
     "end_time": "2023-08-29T11:55:05.796216",
     "exception": false,
     "start_time": "2023-08-29T11:55:05.764067",
     "status": "completed"
    },
    "tags": []
   },
   "outputs": [
    {
     "data": {
      "text/plain": [
       "b'Pinus sylvestris'    49377\n",
       "b'Picea abies'         41487\n",
       "b'Fagus sylvatica'     24026\n",
       "b'Quercus robur'       22913\n",
       "b'Betula pubescens'    13076\n",
       "Name: SPECIES.NAME, dtype: int64"
      ]
     },
     "execution_count": 4,
     "metadata": {},
     "output_type": "execute_result"
    }
   ],
   "source": [
    "images_df_unique[\"SPECIES.NAME\"].value_counts()"
   ]
  },
  {
   "cell_type": "markdown",
   "id": "8b8031cc",
   "metadata": {
    "papermill": {
     "duration": 0.007767,
     "end_time": "2023-08-29T11:55:05.812070",
     "exception": false,
     "start_time": "2023-08-29T11:55:05.804303",
     "status": "completed"
    },
    "tags": []
   },
   "source": [
    "### 5. Create subset\n"
   ]
  },
  {
   "cell_type": "code",
   "execution_count": 5,
   "id": "b94c145b",
   "metadata": {
    "execution": {
     "iopub.execute_input": "2023-08-29T11:55:05.830115Z",
     "iopub.status.busy": "2023-08-29T11:55:05.829737Z",
     "iopub.status.idle": "2023-08-29T11:56:37.541451Z",
     "shell.execute_reply": "2023-08-29T11:56:37.539746Z"
    },
    "papermill": {
     "duration": 91.723916,
     "end_time": "2023-08-29T11:56:37.544226",
     "exception": false,
     "start_time": "2023-08-29T11:55:05.820310",
     "status": "completed"
    },
    "tags": []
   },
   "outputs": [],
   "source": [
    "sample_indeces = images_df_unique.groupby(\"SPECIES.NAME\", group_keys = False).apply(lambda x: x.sample(n = 2500, random_state = 123)).index\n",
    "#print(sample_indeces)\n",
    "subset_df = images_df_unique.loc[sample_indeces]\n",
    "subset_images = np.array([np.array(f[\"data\"][str(i+1)]) for i in sample_indeces])\n",
    "\n",
    "#np.save(\"subset_images.npy\", subset_images)\n",
    "#subset_df.to_csv(\"df_subset_images.csv\")"
   ]
  },
  {
   "cell_type": "markdown",
   "id": "d70e58c8",
   "metadata": {
    "papermill": {
     "duration": 0.007491,
     "end_time": "2023-08-29T11:56:37.559922",
     "exception": false,
     "start_time": "2023-08-29T11:56:37.552431",
     "status": "completed"
    },
    "tags": []
   },
   "source": [
    "### 6. Print example satellite image"
   ]
  },
  {
   "cell_type": "code",
   "execution_count": 6,
   "id": "8ffd2d70",
   "metadata": {
    "execution": {
     "iopub.execute_input": "2023-08-29T11:56:37.577017Z",
     "iopub.status.busy": "2023-08-29T11:56:37.576620Z",
     "iopub.status.idle": "2023-08-29T11:56:37.827375Z",
     "shell.execute_reply": "2023-08-29T11:56:37.826171Z"
    },
    "papermill": {
     "duration": 0.261718,
     "end_time": "2023-08-29T11:56:37.829333",
     "exception": false,
     "start_time": "2023-08-29T11:56:37.567615",
     "status": "completed"
    },
    "tags": []
   },
   "outputs": [
    {
     "data": {
      "text/plain": [
       "<matplotlib.image.AxesImage at 0x7d01d4d54b50>"
      ]
     },
     "execution_count": 6,
     "metadata": {},
     "output_type": "execute_result"
    },
    {
     "data": {
      "image/png": "[encoded data removed]",
      "text/plain": [
       "<Figure size 640x480 with 1 Axes>"
      ]
     },
     "metadata": {},
     "output_type": "display_data"
    }
   ],
   "source": [
    "from matplotlib import pyplot as plt\n",
    "plt.imshow(subset_images[30, 3])\n",
    "#plt.savefig('satellite_exp.png')"
   ]
  },
  {
   "cell_type": "markdown",
   "id": "e7e1e35e",
   "metadata": {
    "papermill": {
     "duration": 0.00841,
     "end_time": "2023-08-29T11:56:37.846348",
     "exception": false,
     "start_time": "2023-08-29T11:56:37.837938",
     "status": "completed"
    },
    "tags": []
   },
   "source": [
    "### 7. Normalization of pixel values"
   ]
  },
  {
   "cell_type": "code",
   "execution_count": 7,
   "id": "6134d415",
   "metadata": {
    "execution": {
     "iopub.execute_input": "2023-08-29T11:56:37.866809Z",
     "iopub.status.busy": "2023-08-29T11:56:37.865936Z",
     "iopub.status.idle": "2023-08-29T11:56:38.964925Z",
     "shell.execute_reply": "2023-08-29T11:56:38.963875Z"
    },
    "papermill": {
     "duration": 1.112703,
     "end_time": "2023-08-29T11:56:38.967719",
     "exception": false,
     "start_time": "2023-08-29T11:56:37.855016",
     "status": "completed"
    },
    "tags": []
   },
   "outputs": [],
   "source": [
    "#np.min(subset_images), np.max(subset_images)\n",
    "subset_images = (subset_images - np.min(subset_images)) / (np.max(subset_images) - np.min(subset_images))\n",
    "#print(subset_images.dtype)\n",
    "#print(subset_images.shape)"
   ]
  },
  {
   "cell_type": "markdown",
   "id": "d35d50cf",
   "metadata": {
    "papermill": {
     "duration": 0.0088,
     "end_time": "2023-08-29T11:56:38.985337",
     "exception": false,
     "start_time": "2023-08-29T11:56:38.976537",
     "status": "completed"
    },
    "tags": []
   },
   "source": [
    "### 8. Create training and test datset"
   ]
  },
  {
   "cell_type": "markdown",
   "id": "e04c0a74",
   "metadata": {
    "papermill": {
     "duration": 0.008571,
     "end_time": "2023-08-29T11:56:39.002494",
     "exception": false,
     "start_time": "2023-08-29T11:56:38.993923",
     "status": "completed"
    },
    "tags": []
   },
   "source": [
    "#### 8.1 Change data structure"
   ]
  },
  {
   "cell_type": "code",
   "execution_count": 8,
   "id": "cc123756",
   "metadata": {
    "execution": {
     "iopub.execute_input": "2023-08-29T11:56:39.022091Z",
     "iopub.status.busy": "2023-08-29T11:56:39.021741Z",
     "iopub.status.idle": "2023-08-29T11:56:42.947865Z",
     "shell.execute_reply": "2023-08-29T11:56:42.946200Z"
    },
    "papermill": {
     "duration": 3.939672,
     "end_time": "2023-08-29T11:56:42.950618",
     "exception": false,
     "start_time": "2023-08-29T11:56:39.010946",
     "status": "completed"
    },
    "tags": []
   },
   "outputs": [],
   "source": [
    "from matplotlib import pyplot as plt\n",
    "import torch\n",
    "\n",
    "#print(subset_images.shape)\n",
    "subset_images_new = np.rollaxis(subset_images, 1, 4)\n",
    "# print(subset_images_new.shape)\n",
    "subset_images_tensor = torch.from_numpy(subset_images)"
   ]
  },
  {
   "cell_type": "markdown",
   "id": "62f129c9",
   "metadata": {
    "papermill": {
     "duration": 0.008876,
     "end_time": "2023-08-29T11:56:42.969229",
     "exception": false,
     "start_time": "2023-08-29T11:56:42.960353",
     "status": "completed"
    },
    "tags": []
   },
   "source": [
    "#### 8.2 Transform labels to numbers"
   ]
  },
  {
   "cell_type": "code",
   "execution_count": 9,
   "id": "06d2f447",
   "metadata": {
    "execution": {
     "iopub.execute_input": "2023-08-29T11:56:42.988446Z",
     "iopub.status.busy": "2023-08-29T11:56:42.987540Z",
     "iopub.status.idle": "2023-08-29T11:56:42.998970Z",
     "shell.execute_reply": "2023-08-29T11:56:42.998159Z"
    },
    "papermill": {
     "duration": 0.023435,
     "end_time": "2023-08-29T11:56:43.000952",
     "exception": false,
     "start_time": "2023-08-29T11:56:42.977517",
     "status": "completed"
    },
    "tags": []
   },
   "outputs": [],
   "source": [
    "labels = subset_df[\"SPECIES.NAME\"].values # .values makes sure to get values and not pandas series object\n",
    "\n",
    "labels_dict = {b'Fagus sylvatica':0, b'Picea abies':1, b'Betula pubescens':2, b'Pinus sylvestris':3, b'Quercus robur':4}\n",
    "\n",
    "labels = subset_df[\"SPECIES.NAME\"].apply(lambda x: labels_dict[x]).values"
   ]
  },
  {
   "cell_type": "markdown",
   "id": "93ac8df3",
   "metadata": {
    "papermill": {
     "duration": 0.008101,
     "end_time": "2023-08-29T11:56:43.017554",
     "exception": false,
     "start_time": "2023-08-29T11:56:43.009453",
     "status": "completed"
    },
    "tags": []
   },
   "source": [
    "#### 8.3 Train-test-split"
   ]
  },
  {
   "cell_type": "code",
   "execution_count": 10,
   "id": "452d0822",
   "metadata": {
    "execution": {
     "iopub.execute_input": "2023-08-29T11:56:43.036463Z",
     "iopub.status.busy": "2023-08-29T11:56:43.035916Z",
     "iopub.status.idle": "2023-08-29T11:56:45.582353Z",
     "shell.execute_reply": "2023-08-29T11:56:45.581205Z"
    },
    "papermill": {
     "duration": 2.559055,
     "end_time": "2023-08-29T11:56:45.584914",
     "exception": false,
     "start_time": "2023-08-29T11:56:43.025859",
     "status": "completed"
    },
    "tags": []
   },
   "outputs": [],
   "source": [
    "from sklearn.model_selection import train_test_split\n",
    "\n",
    "index_train, index_test, img_train, img_test, label_train, label_test = train_test_split(subset_df.index.values, subset_images_tensor, labels, stratify=labels, test_size=0.2, random_state=42)\n"
   ]
  },
  {
   "cell_type": "markdown",
   "id": "784867ac",
   "metadata": {
    "papermill": {
     "duration": 0.008747,
     "end_time": "2023-08-29T11:56:45.603066",
     "exception": false,
     "start_time": "2023-08-29T11:56:45.594319",
     "status": "completed"
    },
    "tags": []
   },
   "source": [
    "#### 8.4 add training and test set information to data frame"
   ]
  },
  {
   "cell_type": "code",
   "execution_count": 11,
   "id": "bd781ec7",
   "metadata": {
    "execution": {
     "iopub.execute_input": "2023-08-29T11:56:45.622386Z",
     "iopub.status.busy": "2023-08-29T11:56:45.621492Z",
     "iopub.status.idle": "2023-08-29T11:56:45.636142Z",
     "shell.execute_reply": "2023-08-29T11:56:45.634853Z"
    },
    "papermill": {
     "duration": 0.026531,
     "end_time": "2023-08-29T11:56:45.638251",
     "exception": false,
     "start_time": "2023-08-29T11:56:45.611720",
     "status": "completed"
    },
    "tags": []
   },
   "outputs": [],
   "source": [
    "subset_df.loc[index_train, [\"training\"]]=True\n",
    "subset_df.loc[index_test, [\"training\"]]=False\n",
    "#subset_df\n",
    "#print(np.unique(label_test, return_counts=True)) # check distribution of labels in test set"
   ]
  },
  {
   "cell_type": "markdown",
   "id": "2575a6e8",
   "metadata": {
    "papermill": {
     "duration": 0.00817,
     "end_time": "2023-08-29T11:56:45.654916",
     "exception": false,
     "start_time": "2023-08-29T11:56:45.646746",
     "status": "completed"
    },
    "tags": []
   },
   "source": [
    "### 9. Create dataset"
   ]
  },
  {
   "cell_type": "markdown",
   "id": "6a9892e6",
   "metadata": {
    "papermill": {
     "duration": 0.008698,
     "end_time": "2023-08-29T11:56:45.672259",
     "exception": false,
     "start_time": "2023-08-29T11:56:45.663561",
     "status": "completed"
    },
    "tags": []
   },
   "source": [
    "#### 9.1 Create dataset class"
   ]
  },
  {
   "cell_type": "code",
   "execution_count": 12,
   "id": "80e87a5d",
   "metadata": {
    "execution": {
     "iopub.execute_input": "2023-08-29T11:56:45.692983Z",
     "iopub.status.busy": "2023-08-29T11:56:45.692600Z",
     "iopub.status.idle": "2023-08-29T11:56:45.700044Z",
     "shell.execute_reply": "2023-08-29T11:56:45.697908Z"
    },
    "papermill": {
     "duration": 0.022492,
     "end_time": "2023-08-29T11:56:45.703789",
     "exception": false,
     "start_time": "2023-08-29T11:56:45.681297",
     "status": "completed"
    },
    "tags": []
   },
   "outputs": [],
   "source": [
    "from torch.utils.data import Dataset\n",
    "\n",
    "class CustomImageDataset(Dataset):\n",
    "    def __init__(self, labels, images):\n",
    "        self.img_labels = labels\n",
    "        self.img = images\n",
    "\n",
    "    def __len__(self):\n",
    "        return len(self.img_labels)\n",
    "\n",
    "    def __getitem__(self, idx):\n",
    "        image = self.img[idx]\n",
    "        label = self.img_labels[idx]\n",
    "        return image, label"
   ]
  },
  {
   "cell_type": "markdown",
   "id": "d0519412",
   "metadata": {
    "papermill": {
     "duration": 0.008337,
     "end_time": "2023-08-29T11:56:45.721326",
     "exception": false,
     "start_time": "2023-08-29T11:56:45.712989",
     "status": "completed"
    },
    "tags": []
   },
   "source": [
    "#### 9.2 Create train and test datasets"
   ]
  },
  {
   "cell_type": "code",
   "execution_count": 13,
   "id": "3c96df84",
   "metadata": {
    "execution": {
     "iopub.execute_input": "2023-08-29T11:56:45.740870Z",
     "iopub.status.busy": "2023-08-29T11:56:45.740530Z",
     "iopub.status.idle": "2023-08-29T11:56:45.745774Z",
     "shell.execute_reply": "2023-08-29T11:56:45.744380Z"
    },
    "papermill": {
     "duration": 0.017832,
     "end_time": "2023-08-29T11:56:45.748135",
     "exception": false,
     "start_time": "2023-08-29T11:56:45.730303",
     "status": "completed"
    },
    "tags": []
   },
   "outputs": [],
   "source": [
    "training_data = CustomImageDataset(label_train, img_train)\n",
    "#print(training_data.img.shape)\n",
    "\n",
    "test_data = CustomImageDataset(label_test, img_test)\n",
    "#print(test_data.img.shape)"
   ]
  },
  {
   "cell_type": "markdown",
   "id": "7998b3a4",
   "metadata": {
    "papermill": {
     "duration": 0.008187,
     "end_time": "2023-08-29T11:56:45.764955",
     "exception": false,
     "start_time": "2023-08-29T11:56:45.756768",
     "status": "completed"
    },
    "tags": []
   },
   "source": [
    "### 10. Specify a batch size"
   ]
  },
  {
   "cell_type": "code",
   "execution_count": 14,
   "id": "d3337c8b",
   "metadata": {
    "execution": {
     "iopub.execute_input": "2023-08-29T11:56:45.783770Z",
     "iopub.status.busy": "2023-08-29T11:56:45.783425Z",
     "iopub.status.idle": "2023-08-29T11:56:45.788415Z",
     "shell.execute_reply": "2023-08-29T11:56:45.786494Z"
    },
    "papermill": {
     "duration": 0.017316,
     "end_time": "2023-08-29T11:56:45.790832",
     "exception": false,
     "start_time": "2023-08-29T11:56:45.773516",
     "status": "completed"
    },
    "tags": []
   },
   "outputs": [],
   "source": [
    "batch_size = 32"
   ]
  },
  {
   "cell_type": "markdown",
   "id": "dc10112f",
   "metadata": {
    "papermill": {
     "duration": 0.008149,
     "end_time": "2023-08-29T11:56:45.807698",
     "exception": false,
     "start_time": "2023-08-29T11:56:45.799549",
     "status": "completed"
    },
    "tags": []
   },
   "source": [
    "### 11. Create data loaders"
   ]
  },
  {
   "cell_type": "code",
   "execution_count": 15,
   "id": "f9b873b0",
   "metadata": {
    "execution": {
     "iopub.execute_input": "2023-08-29T11:56:45.827013Z",
     "iopub.status.busy": "2023-08-29T11:56:45.826693Z",
     "iopub.status.idle": "2023-08-29T11:56:45.831995Z",
     "shell.execute_reply": "2023-08-29T11:56:45.830750Z"
    },
    "papermill": {
     "duration": 0.01859,
     "end_time": "2023-08-29T11:56:45.834597",
     "exception": false,
     "start_time": "2023-08-29T11:56:45.816007",
     "status": "completed"
    },
    "tags": []
   },
   "outputs": [],
   "source": [
    "train_dataloader = torch.utils.data.DataLoader(training_data, batch_size=batch_size)\n",
    "test_dataloader = torch.utils.data.DataLoader(test_data, batch_size=batch_size)\n",
    "\n",
    "#for X, y in train_dataloader:\n",
    "#    print(\"Shape of X: \", X.shape, X.dtype)\n",
    "#    print(\"Shape of y: \", y.shape, y.dtype)\n",
    "#    break"
   ]
  },
  {
   "cell_type": "markdown",
   "id": "b5259986",
   "metadata": {
    "papermill": {
     "duration": 0.008224,
     "end_time": "2023-08-29T11:56:45.851465",
     "exception": false,
     "start_time": "2023-08-29T11:56:45.843241",
     "status": "completed"
    },
    "tags": []
   },
   "source": [
    "### 12. Define the CNN model"
   ]
  },
  {
   "cell_type": "code",
   "execution_count": 16,
   "id": "0f901c81",
   "metadata": {
    "execution": {
     "iopub.execute_input": "2023-08-29T11:56:45.870429Z",
     "iopub.status.busy": "2023-08-29T11:56:45.870074Z",
     "iopub.status.idle": "2023-08-29T11:56:45.909371Z",
     "shell.execute_reply": "2023-08-29T11:56:45.908031Z"
    },
    "papermill": {
     "duration": 0.052101,
     "end_time": "2023-08-29T11:56:45.912114",
     "exception": false,
     "start_time": "2023-08-29T11:56:45.860013",
     "status": "completed"
    },
    "tags": []
   },
   "outputs": [],
   "source": [
    "import torch.nn.functional as F\n",
    "\n",
    "class TreeModel(torch.nn.Module):\n",
    "    def __init__(self):\n",
    "        super().__init__()\n",
    "        self.conv1 = torch.nn.Conv2d(4, 6, 5)\n",
    "        self.pool = torch.nn.MaxPool2d(2, 2)\n",
    "        self.conv2 = torch.nn.Conv2d(6, 16, 5)\n",
    "        self.fc1 = torch.nn.Linear(16 * 22 * 22, 120)\n",
    "        self.do1 = torch.nn.Dropout(p=0.2) # cite dropout\n",
    "        self.fc2 = torch.nn.Linear(120, 84)\n",
    "        self.do2 = torch.nn.Dropout(p=0.2)\n",
    "        self.fc3 = torch.nn.Linear(84, 5)\n",
    "\n",
    "    def forward(self, x):\n",
    "        x = x.to(torch.float32)\n",
    "        x = self.pool(F.relu(self.conv1(x)))\n",
    "        x = self.pool(F.relu(self.conv2(x)))\n",
    "        x = torch.flatten(x, 1) # flatten all dimensions except batch\n",
    "        x = F.relu(self.do1(self.fc1(x)))\n",
    "        x = F.relu(self.do2(self.fc2(x)))\n",
    "        #x = F.softmax(self.fc3(x), dim=1) # may not work (maybe needs higher learning rate)\n",
    "        x = self.fc3(x) # may not work (maybe needs higher learning rate)\n",
    "\n",
    "        return x\n",
    "\n",
    "# check if GPU is availavle\n",
    "device = \"cuda\" if torch.cuda.is_available() else \"cpu\"\n",
    "#print(\"Using {} device\".format(device))\n",
    "\n",
    "# get the model and move to available device\n",
    "model = TreeModel().to(device)\n",
    "#print(model)"
   ]
  },
  {
   "cell_type": "markdown",
   "id": "aa093082",
   "metadata": {
    "papermill": {
     "duration": 0.008093,
     "end_time": "2023-08-29T11:56:45.928851",
     "exception": false,
     "start_time": "2023-08-29T11:56:45.920758",
     "status": "completed"
    },
    "tags": []
   },
   "source": [
    "### 13. Define the loss function and the optimizer"
   ]
  },
  {
   "cell_type": "code",
   "execution_count": 17,
   "id": "cf10a78a",
   "metadata": {
    "execution": {
     "iopub.execute_input": "2023-08-29T11:56:45.947717Z",
     "iopub.status.busy": "2023-08-29T11:56:45.947364Z",
     "iopub.status.idle": "2023-08-29T11:56:45.952411Z",
     "shell.execute_reply": "2023-08-29T11:56:45.951033Z"
    },
    "papermill": {
     "duration": 0.017062,
     "end_time": "2023-08-29T11:56:45.954245",
     "exception": false,
     "start_time": "2023-08-29T11:56:45.937183",
     "status": "completed"
    },
    "tags": []
   },
   "outputs": [],
   "source": [
    "loss = torch.nn.CrossEntropyLoss()\n",
    "optimizer = torch.optim.Adam(model.parameters(), lr=1e-3)"
   ]
  },
  {
   "cell_type": "markdown",
   "id": "4fe4e9c8",
   "metadata": {
    "papermill": {
     "duration": 0.008002,
     "end_time": "2023-08-29T11:56:45.970785",
     "exception": false,
     "start_time": "2023-08-29T11:56:45.962783",
     "status": "completed"
    },
    "tags": []
   },
   "source": [
    "### 14. Define training, test and predict functions"
   ]
  },
  {
   "cell_type": "code",
   "execution_count": 18,
   "id": "e1f2430b",
   "metadata": {
    "execution": {
     "iopub.execute_input": "2023-08-29T11:56:45.989133Z",
     "iopub.status.busy": "2023-08-29T11:56:45.988510Z",
     "iopub.status.idle": "2023-08-29T11:56:46.001863Z",
     "shell.execute_reply": "2023-08-29T11:56:46.000143Z"
    },
    "papermill": {
     "duration": 0.025107,
     "end_time": "2023-08-29T11:56:46.003971",
     "exception": false,
     "start_time": "2023-08-29T11:56:45.978864",
     "status": "completed"
    },
    "tags": []
   },
   "outputs": [],
   "source": [
    "# The training function\n",
    "def train(dataloader, model, loss_function, optimizer):\n",
    "    size = len(dataloader.dataset)\n",
    "    \n",
    "    for batch, (X, y) in enumerate(dataloader):\n",
    "        X, y = X.to(device), y.to(device)\n",
    "\n",
    "        # Forward propagation or Compute prediction error\n",
    "        pred = model(X)\n",
    "        loss = loss_function(pred, y)\n",
    "\n",
    "        # Backpropagation\n",
    "        optimizer.zero_grad()\n",
    "        loss.backward()\n",
    "        optimizer.step()\n",
    "\n",
    "        if batch % 20 == 0:\n",
    "            loss, current = loss.item(), batch * len(X)\n",
    "            print(f\"loss: {loss:>7f}  [{current:>5d}/{size:>5d}]\")\n",
    "            train_loss = loss\n",
    "    return train_loss      \n",
    "\n",
    "# The test function\n",
    "def test(dataloader, model, loss_fn):\n",
    "    size = len(dataloader.dataset)\n",
    "    num_batches = len(dataloader)\n",
    "    model.eval()\n",
    "    test_loss, correct = 0, 0\n",
    "    with torch.no_grad():\n",
    "        for X, y in dataloader:\n",
    "            X, y = X.to(device), y.to(device)\n",
    "            pred = model(X)\n",
    "            test_loss += loss_fn(pred, y).item()\n",
    "            correct += (pred.argmax(1) == y).type(torch.float).sum().item()\n",
    "    test_loss /= num_batches\n",
    "    correct /= size\n",
    "    print(f\"Test Accuracy: {(100*correct):>0.1f}%, Avg loss: {test_loss:>8f} \\n\")\n",
    "    return test_loss\n",
    "\n",
    "# The predict function\n",
    "def predict(dataloader, model):\n",
    "    size = len(dataloader.dataset)\n",
    "    num_batches = len(dataloader)\n",
    "    model.eval()\n",
    "    list_preds = []\n",
    "    with torch.no_grad():\n",
    "        for X, y in dataloader:\n",
    "            X, y = X.to(device), y.to(device)\n",
    "            pred = model(X)\n",
    "            list_preds.append(pred.numpy())\n",
    "    return np.vstack(list_preds)"
   ]
  },
  {
   "cell_type": "markdown",
   "id": "088ab1fd",
   "metadata": {
    "papermill": {
     "duration": 0.008265,
     "end_time": "2023-08-29T11:56:46.020813",
     "exception": false,
     "start_time": "2023-08-29T11:56:46.012548",
     "status": "completed"
    },
    "tags": []
   },
   "source": [
    "### 15. Run the model"
   ]
  },
  {
   "cell_type": "code",
   "execution_count": 19,
   "id": "fa12a978",
   "metadata": {
    "execution": {
     "iopub.execute_input": "2023-08-29T11:56:46.040961Z",
     "iopub.status.busy": "2023-08-29T11:56:46.040433Z",
     "iopub.status.idle": "2023-08-29T11:58:23.338967Z",
     "shell.execute_reply": "2023-08-29T11:58:23.336637Z"
    },
    "papermill": {
     "duration": 97.313069,
     "end_time": "2023-08-29T11:58:23.342307",
     "exception": false,
     "start_time": "2023-08-29T11:56:46.029238",
     "status": "completed"
    },
    "tags": []
   },
   "outputs": [
    {
     "name": "stdout",
     "output_type": "stream",
     "text": [
      "Epoch 1\n",
      "-------------------------------\n",
      "loss: 1.613918  [    0/10000]\n",
      "loss: 1.476364  [  640/10000]\n",
      "loss: 1.514516  [ 1280/10000]\n",
      "loss: 1.343630  [ 1920/10000]\n",
      "loss: 1.436563  [ 2560/10000]\n",
      "loss: 1.346374  [ 3200/10000]\n",
      "loss: 1.439529  [ 3840/10000]\n",
      "loss: 1.437444  [ 4480/10000]\n",
      "loss: 1.381933  [ 5120/10000]\n",
      "loss: 1.388337  [ 5760/10000]\n",
      "loss: 1.234928  [ 6400/10000]\n",
      "loss: 1.315777  [ 7040/10000]\n",
      "loss: 1.282638  [ 7680/10000]\n",
      "loss: 1.283742  [ 8320/10000]\n",
      "loss: 1.344711  [ 8960/10000]\n",
      "loss: 1.385922  [ 9600/10000]\n",
      "Test Accuracy: 39.6%, Avg loss: 1.344992 \n",
      "\n",
      "Epoch 2\n",
      "-------------------------------\n",
      "loss: 1.436469  [    0/10000]\n",
      "loss: 1.291982  [  640/10000]\n",
      "loss: 1.350496  [ 1280/10000]\n",
      "loss: 1.256580  [ 1920/10000]\n",
      "loss: 1.434044  [ 2560/10000]\n",
      "loss: 1.284225  [ 3200/10000]\n",
      "loss: 1.400935  [ 3840/10000]\n",
      "loss: 1.395263  [ 4480/10000]\n",
      "loss: 1.319085  [ 5120/10000]\n",
      "loss: 1.451669  [ 5760/10000]\n",
      "loss: 1.218211  [ 6400/10000]\n",
      "loss: 1.264462  [ 7040/10000]\n",
      "loss: 1.352689  [ 7680/10000]\n",
      "loss: 1.279984  [ 8320/10000]\n",
      "loss: 1.373180  [ 8960/10000]\n",
      "loss: 1.340276  [ 9600/10000]\n",
      "Test Accuracy: 40.1%, Avg loss: 1.347849 \n",
      "\n",
      "Epoch 3\n",
      "-------------------------------\n",
      "loss: 1.452410  [    0/10000]\n",
      "loss: 1.273059  [  640/10000]\n",
      "loss: 1.325355  [ 1280/10000]\n",
      "loss: 1.226992  [ 1920/10000]\n",
      "loss: 1.388618  [ 2560/10000]\n",
      "loss: 1.324838  [ 3200/10000]\n",
      "loss: 1.375867  [ 3840/10000]\n",
      "loss: 1.442381  [ 4480/10000]\n",
      "loss: 1.339079  [ 5120/10000]\n",
      "loss: 1.533182  [ 5760/10000]\n",
      "loss: 1.206451  [ 6400/10000]\n",
      "loss: 1.264608  [ 7040/10000]\n",
      "loss: 1.223884  [ 7680/10000]\n",
      "loss: 1.244742  [ 8320/10000]\n",
      "loss: 1.349117  [ 8960/10000]\n",
      "loss: 1.331391  [ 9600/10000]\n",
      "Test Accuracy: 40.3%, Avg loss: 1.313701 \n",
      "\n",
      "Epoch 4\n",
      "-------------------------------\n",
      "loss: 1.428785  [    0/10000]\n",
      "loss: 1.248930  [  640/10000]\n",
      "loss: 1.294256  [ 1280/10000]\n",
      "loss: 1.207010  [ 1920/10000]\n",
      "loss: 1.407511  [ 2560/10000]\n",
      "loss: 1.335930  [ 3200/10000]\n",
      "loss: 1.374281  [ 3840/10000]\n",
      "loss: 1.396846  [ 4480/10000]\n",
      "loss: 1.325024  [ 5120/10000]\n",
      "loss: 1.439794  [ 5760/10000]\n",
      "loss: 1.182558  [ 6400/10000]\n",
      "loss: 1.253837  [ 7040/10000]\n",
      "loss: 1.203260  [ 7680/10000]\n",
      "loss: 1.217883  [ 8320/10000]\n",
      "loss: 1.318132  [ 8960/10000]\n",
      "loss: 1.307848  [ 9600/10000]\n",
      "Test Accuracy: 41.0%, Avg loss: 1.306418 \n",
      "\n",
      "Epoch 5\n",
      "-------------------------------\n",
      "loss: 1.406255  [    0/10000]\n",
      "loss: 1.241899  [  640/10000]\n",
      "loss: 1.241948  [ 1280/10000]\n",
      "loss: 1.184326  [ 1920/10000]\n",
      "loss: 1.409923  [ 2560/10000]\n",
      "loss: 1.297353  [ 3200/10000]\n",
      "loss: 1.340010  [ 3840/10000]\n",
      "loss: 1.365665  [ 4480/10000]\n",
      "loss: 1.341720  [ 5120/10000]\n",
      "loss: 1.426106  [ 5760/10000]\n",
      "loss: 1.136639  [ 6400/10000]\n",
      "loss: 1.240730  [ 7040/10000]\n",
      "loss: 1.198298  [ 7680/10000]\n",
      "loss: 1.213399  [ 8320/10000]\n",
      "loss: 1.313542  [ 8960/10000]\n",
      "loss: 1.320448  [ 9600/10000]\n",
      "Test Accuracy: 41.4%, Avg loss: 1.312377 \n",
      "\n",
      "Epoch 6\n",
      "-------------------------------\n",
      "loss: 1.367860  [    0/10000]\n",
      "loss: 1.247305  [  640/10000]\n",
      "loss: 1.187852  [ 1280/10000]\n",
      "loss: 1.170345  [ 1920/10000]\n",
      "loss: 1.376371  [ 2560/10000]\n",
      "loss: 1.295299  [ 3200/10000]\n",
      "loss: 1.325899  [ 3840/10000]\n",
      "loss: 1.310658  [ 4480/10000]\n",
      "loss: 1.388721  [ 5120/10000]\n",
      "loss: 1.419598  [ 5760/10000]\n",
      "loss: 1.123026  [ 6400/10000]\n",
      "loss: 1.211012  [ 7040/10000]\n",
      "loss: 1.246021  [ 7680/10000]\n",
      "loss: 1.212607  [ 8320/10000]\n",
      "loss: 1.300049  [ 8960/10000]\n",
      "loss: 1.296809  [ 9600/10000]\n",
      "Test Accuracy: 41.4%, Avg loss: 1.323381 \n",
      "\n",
      "Done!\n"
     ]
    }
   ],
   "source": [
    "epochs = 6\n",
    "train_loss_list = []\n",
    "test_loss_list = []\n",
    "for t in range(epochs):\n",
    "    print(f\"Epoch {t+1}\\n-------------------------------\")\n",
    "    train_loss = train(train_dataloader, model, loss, optimizer)\n",
    "    test_loss = test(test_dataloader, model, loss)\n",
    "    train_loss_list.append(train_loss)\n",
    "    test_loss_list.append(test_loss)\n",
    "print(\"Done!\")"
   ]
  },
  {
   "cell_type": "markdown",
   "id": "4fd9107b",
   "metadata": {
    "papermill": {
     "duration": 0.013778,
     "end_time": "2023-08-29T11:58:23.370214",
     "exception": false,
     "start_time": "2023-08-29T11:58:23.356436",
     "status": "completed"
    },
    "tags": []
   },
   "source": [
    "### 16. Plot train and test loss"
   ]
  },
  {
   "cell_type": "code",
   "execution_count": 20,
   "id": "b570b7ca",
   "metadata": {
    "execution": {
     "iopub.execute_input": "2023-08-29T11:58:23.406554Z",
     "iopub.status.busy": "2023-08-29T11:58:23.406116Z",
     "iopub.status.idle": "2023-08-29T11:58:23.641973Z",
     "shell.execute_reply": "2023-08-29T11:58:23.640930Z"
    },
    "papermill": {
     "duration": 0.258584,
     "end_time": "2023-08-29T11:58:23.644066",
     "exception": false,
     "start_time": "2023-08-29T11:58:23.385482",
     "status": "completed"
    },
    "tags": []
   },
   "outputs": [
    {
     "data": {
      "text/plain": [
       "[<matplotlib.lines.Line2D at 0x7d01a78693c0>]"
      ]
     },
     "execution_count": 20,
     "metadata": {},
     "output_type": "execute_result"
    },
    {
     "data": {
      "image/png": "[encoded data removed]",
      "text/plain": [
       "<Figure size 640x480 with 1 Axes>"
      ]
     },
     "metadata": {},
     "output_type": "display_data"
    }
   ],
   "source": [
    "plt.plot(np.arange(epochs), train_loss_list)\n",
    "plt.plot(np.arange(epochs), test_loss_list)\n",
    "#plt.savefig('train_test_loss.png')"
   ]
  },
  {
   "cell_type": "markdown",
   "id": "71c5e7eb",
   "metadata": {
    "papermill": {
     "duration": 0.014526,
     "end_time": "2023-08-29T11:58:23.674139",
     "exception": false,
     "start_time": "2023-08-29T11:58:23.659613",
     "status": "completed"
    },
    "tags": []
   },
   "source": [
    "### 17. Accumulate predictions in dataframe"
   ]
  },
  {
   "cell_type": "code",
   "execution_count": 21,
   "id": "a93dd4c8",
   "metadata": {
    "execution": {
     "iopub.execute_input": "2023-08-29T11:58:23.706487Z",
     "iopub.status.busy": "2023-08-29T11:58:23.705902Z",
     "iopub.status.idle": "2023-08-29T11:58:31.358941Z",
     "shell.execute_reply": "2023-08-29T11:58:31.357671Z"
    },
    "papermill": {
     "duration": 7.672324,
     "end_time": "2023-08-29T11:58:31.361325",
     "exception": false,
     "start_time": "2023-08-29T11:58:23.689001",
     "status": "completed"
    },
    "tags": []
   },
   "outputs": [],
   "source": [
    "preds_test = predict(test_dataloader, model)\n",
    "\n",
    "subset_df.loc[index_train, [\"training\"]]=True\n",
    "subset_df.loc[index_test, [\"sp1\", \"sp2\", \"sp3\", \"sp4\", \"sp5\"]]=preds_test\n",
    "\n",
    "preds_train = predict(train_dataloader, model)\n",
    "subset_df.loc[index_train, [\"sp1\", \"sp2\", \"sp3\", \"sp4\", \"sp5\"]]=preds_train\n",
    "\n",
    "labels_dict_rev = {0:\"b'Fagus sylvatica'\",\n",
    "              1:\"b'Picea abies'\",\n",
    "              2:\"b'Betula pubescens'\",\n",
    "              3:\"b'Pinus sylvestris'\",\n",
    "              4:\"b'Quercus robur'\"}\n",
    "\n",
    "preds_test\n",
    "subset_df.loc[index_test, [\"prediction\"]]=[labels_dict_rev[i] for i in np.argmax(preds_test, axis=1)]\n",
    "subset_df.loc[index_train, [\"prediction\"]]=[labels_dict_rev[i] for i in np.argmax(preds_train, axis=1)]\n",
    "subset_df.to_csv(\"results.csv\")"
   ]
  }
 ],
 "metadata": {
  "kernelspec": {
   "display_name": "Python 3",
   "language": "python",
   "name": "python3"
  },
  "language_info": {
   "codemirror_mode": {
    "name": "ipython",
    "version": 3
   },
   "file_extension": ".py",
   "mimetype": "text/x-python",
   "name": "python",
   "nbconvert_exporter": "python",
   "pygments_lexer": "ipython3",
   "version": "3.10.10"
  },
  "papermill": {
   "default_parameters": {},
   "duration": 221.280062,
   "end_time": "2023-08-29T11:58:33.406022",
   "environment_variables": {},
   "exception": null,
   "input_path": "__notebook__.ipynb",
   "output_path": "__notebook__.ipynb",
   "parameters": {},
   "start_time": "2023-08-29T11:54:52.125960",
   "version": "2.4.0"
  }
 },
 "nbformat": 4,
 "nbformat_minor": 5
}
